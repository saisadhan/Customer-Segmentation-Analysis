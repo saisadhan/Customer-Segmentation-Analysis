{
 "cells": [
  {
   "cell_type": "code",
   "execution_count": 7,
   "id": "201239e2",
   "metadata": {},
   "outputs": [],
   "source": [
    "import pandas as pd\n",
    "#This code reads a CSV file named \"segmentation data.csv\" into a Pandas DataFrame named \"customers\"\n",
    "customers = pd.read_csv(r\"C:\\Users\\saisa\\Downloads\\CIS-591 ML\\Group assignments\\Group Case -1 clustering data\\segmentation data.csv\")"
   ]
  },
  {
   "cell_type": "code",
   "execution_count": 8,
   "id": "77ecbbc3",
   "metadata": {},
   "outputs": [
    {
     "data": {
      "text/html": [
       "<div>\n",
       "<style scoped>\n",
       "    .dataframe tbody tr th:only-of-type {\n",
       "        vertical-align: middle;\n",
       "    }\n",
       "\n",
       "    .dataframe tbody tr th {\n",
       "        vertical-align: top;\n",
       "    }\n",
       "\n",
       "    .dataframe thead th {\n",
       "        text-align: right;\n",
       "    }\n",
       "</style>\n",
       "<table border=\"1\" class=\"dataframe\">\n",
       "  <thead>\n",
       "    <tr style=\"text-align: right;\">\n",
       "      <th></th>\n",
       "      <th>ID</th>\n",
       "      <th>Sex</th>\n",
       "      <th>Marital status</th>\n",
       "      <th>Age</th>\n",
       "      <th>Education</th>\n",
       "      <th>Income</th>\n",
       "      <th>Occupation</th>\n",
       "      <th>Settlement size</th>\n",
       "    </tr>\n",
       "  </thead>\n",
       "  <tbody>\n",
       "    <tr>\n",
       "      <th>0</th>\n",
       "      <td>100000001</td>\n",
       "      <td>0</td>\n",
       "      <td>0</td>\n",
       "      <td>67</td>\n",
       "      <td>2</td>\n",
       "      <td>124670</td>\n",
       "      <td>1</td>\n",
       "      <td>2</td>\n",
       "    </tr>\n",
       "    <tr>\n",
       "      <th>1</th>\n",
       "      <td>100000002</td>\n",
       "      <td>1</td>\n",
       "      <td>1</td>\n",
       "      <td>22</td>\n",
       "      <td>1</td>\n",
       "      <td>150773</td>\n",
       "      <td>1</td>\n",
       "      <td>2</td>\n",
       "    </tr>\n",
       "    <tr>\n",
       "      <th>2</th>\n",
       "      <td>100000003</td>\n",
       "      <td>0</td>\n",
       "      <td>0</td>\n",
       "      <td>49</td>\n",
       "      <td>1</td>\n",
       "      <td>89210</td>\n",
       "      <td>0</td>\n",
       "      <td>0</td>\n",
       "    </tr>\n",
       "    <tr>\n",
       "      <th>3</th>\n",
       "      <td>100000004</td>\n",
       "      <td>0</td>\n",
       "      <td>0</td>\n",
       "      <td>45</td>\n",
       "      <td>1</td>\n",
       "      <td>171565</td>\n",
       "      <td>1</td>\n",
       "      <td>1</td>\n",
       "    </tr>\n",
       "    <tr>\n",
       "      <th>4</th>\n",
       "      <td>100000005</td>\n",
       "      <td>0</td>\n",
       "      <td>0</td>\n",
       "      <td>53</td>\n",
       "      <td>1</td>\n",
       "      <td>149031</td>\n",
       "      <td>1</td>\n",
       "      <td>1</td>\n",
       "    </tr>\n",
       "    <tr>\n",
       "      <th>...</th>\n",
       "      <td>...</td>\n",
       "      <td>...</td>\n",
       "      <td>...</td>\n",
       "      <td>...</td>\n",
       "      <td>...</td>\n",
       "      <td>...</td>\n",
       "      <td>...</td>\n",
       "      <td>...</td>\n",
       "    </tr>\n",
       "    <tr>\n",
       "      <th>1995</th>\n",
       "      <td>100001996</td>\n",
       "      <td>1</td>\n",
       "      <td>0</td>\n",
       "      <td>47</td>\n",
       "      <td>1</td>\n",
       "      <td>123525</td>\n",
       "      <td>0</td>\n",
       "      <td>0</td>\n",
       "    </tr>\n",
       "    <tr>\n",
       "      <th>1996</th>\n",
       "      <td>100001997</td>\n",
       "      <td>1</td>\n",
       "      <td>1</td>\n",
       "      <td>27</td>\n",
       "      <td>1</td>\n",
       "      <td>117744</td>\n",
       "      <td>1</td>\n",
       "      <td>0</td>\n",
       "    </tr>\n",
       "    <tr>\n",
       "      <th>1997</th>\n",
       "      <td>100001998</td>\n",
       "      <td>0</td>\n",
       "      <td>0</td>\n",
       "      <td>31</td>\n",
       "      <td>0</td>\n",
       "      <td>86400</td>\n",
       "      <td>0</td>\n",
       "      <td>0</td>\n",
       "    </tr>\n",
       "    <tr>\n",
       "      <th>1998</th>\n",
       "      <td>100001999</td>\n",
       "      <td>1</td>\n",
       "      <td>1</td>\n",
       "      <td>24</td>\n",
       "      <td>1</td>\n",
       "      <td>97968</td>\n",
       "      <td>0</td>\n",
       "      <td>0</td>\n",
       "    </tr>\n",
       "    <tr>\n",
       "      <th>1999</th>\n",
       "      <td>100002000</td>\n",
       "      <td>0</td>\n",
       "      <td>0</td>\n",
       "      <td>25</td>\n",
       "      <td>0</td>\n",
       "      <td>68416</td>\n",
       "      <td>0</td>\n",
       "      <td>0</td>\n",
       "    </tr>\n",
       "  </tbody>\n",
       "</table>\n",
       "<p>2000 rows × 8 columns</p>\n",
       "</div>"
      ],
      "text/plain": [
       "             ID  Sex  Marital status  Age  Education  Income  Occupation  \\\n",
       "0     100000001    0               0   67          2  124670           1   \n",
       "1     100000002    1               1   22          1  150773           1   \n",
       "2     100000003    0               0   49          1   89210           0   \n",
       "3     100000004    0               0   45          1  171565           1   \n",
       "4     100000005    0               0   53          1  149031           1   \n",
       "...         ...  ...             ...  ...        ...     ...         ...   \n",
       "1995  100001996    1               0   47          1  123525           0   \n",
       "1996  100001997    1               1   27          1  117744           1   \n",
       "1997  100001998    0               0   31          0   86400           0   \n",
       "1998  100001999    1               1   24          1   97968           0   \n",
       "1999  100002000    0               0   25          0   68416           0   \n",
       "\n",
       "      Settlement size  \n",
       "0                   2  \n",
       "1                   2  \n",
       "2                   0  \n",
       "3                   1  \n",
       "4                   1  \n",
       "...               ...  \n",
       "1995                0  \n",
       "1996                0  \n",
       "1997                0  \n",
       "1998                0  \n",
       "1999                0  \n",
       "\n",
       "[2000 rows x 8 columns]"
      ]
     },
     "execution_count": 8,
     "metadata": {},
     "output_type": "execute_result"
    }
   ],
   "source": [
    "#Printing the variable customers in a Jupyter Notebook cell will display the contents of the DataFrame\n",
    "customers"
   ]
  },
  {
   "cell_type": "code",
   "execution_count": 9,
   "id": "25ed42e6",
   "metadata": {},
   "outputs": [
    {
     "data": {
      "text/plain": [
       "<bound method NDFrame.head of              ID  Sex  Marital status  Age  Education  Income  Occupation  \\\n",
       "0     100000001    0               0   67          2  124670           1   \n",
       "1     100000002    1               1   22          1  150773           1   \n",
       "2     100000003    0               0   49          1   89210           0   \n",
       "3     100000004    0               0   45          1  171565           1   \n",
       "4     100000005    0               0   53          1  149031           1   \n",
       "...         ...  ...             ...  ...        ...     ...         ...   \n",
       "1995  100001996    1               0   47          1  123525           0   \n",
       "1996  100001997    1               1   27          1  117744           1   \n",
       "1997  100001998    0               0   31          0   86400           0   \n",
       "1998  100001999    1               1   24          1   97968           0   \n",
       "1999  100002000    0               0   25          0   68416           0   \n",
       "\n",
       "      Settlement size  \n",
       "0                   2  \n",
       "1                   2  \n",
       "2                   0  \n",
       "3                   1  \n",
       "4                   1  \n",
       "...               ...  \n",
       "1995                0  \n",
       "1996                0  \n",
       "1997                0  \n",
       "1998                0  \n",
       "1999                0  \n",
       "\n",
       "[2000 rows x 8 columns]>"
      ]
     },
     "execution_count": 9,
     "metadata": {},
     "output_type": "execute_result"
    }
   ],
   "source": [
    "#To display the first few rows of the customers DataFrame\n",
    "customers.head"
   ]
  },
  {
   "cell_type": "code",
   "execution_count": 10,
   "id": "07e89818",
   "metadata": {},
   "outputs": [
    {
     "data": {
      "text/plain": [
       "ID                 int64\n",
       "Sex                int64\n",
       "Marital status     int64\n",
       "Age                int64\n",
       "Education          int64\n",
       "Income             int64\n",
       "Occupation         int64\n",
       "Settlement size    int64\n",
       "dtype: object"
      ]
     },
     "execution_count": 10,
     "metadata": {},
     "output_type": "execute_result"
    }
   ],
   "source": [
    "#To display the data types of each column in the customers DataFrame \n",
    "customers.dtypes"
   ]
  },
  {
   "cell_type": "code",
   "execution_count": 11,
   "id": "56fb3627",
   "metadata": {},
   "outputs": [
    {
     "data": {
      "text/plain": [
       "array([[    67, 124670],\n",
       "       [    22, 150773],\n",
       "       [    49,  89210],\n",
       "       ...,\n",
       "       [    31,  86400],\n",
       "       [    24,  97968],\n",
       "       [    25,  68416]], dtype=int64)"
      ]
     },
     "execution_count": 11,
     "metadata": {},
     "output_type": "execute_result"
    }
   ],
   "source": [
    "#a new variable X containing a subset of the data from the customers DataFrame\n",
    "#it selects all rows and the columns at index positions 3 and 5. \n",
    "#Because these are the one with numerical data nature which we can use in the K-means clustering \n",
    "X= customers.iloc[:,[3,5]].values\n",
    "X"
   ]
  },
  {
   "cell_type": "markdown",
   "id": "e1f59dd6",
   "metadata": {},
   "source": [
    "\n",
    "The below code standardizes the features in the array X using StandardScaler from scikit-learn. Standardization rescales the features so that they have the properties of a standard normal distribution with a mean of 0 and a standard deviation of 1."
   ]
  },
  {
   "cell_type": "code",
   "execution_count": 12,
   "id": "2aebf7f0",
   "metadata": {},
   "outputs": [
    {
     "data": {
      "text/plain": [
       "array([[ 2.65361447,  0.09752361],\n",
       "       [-1.18713209,  0.78265438],\n",
       "       [ 1.11731585, -0.83320224],\n",
       "       ...,\n",
       "       [-0.41898277, -0.90695688],\n",
       "       [-1.01643224, -0.60332923],\n",
       "       [-0.93108232, -1.3789866 ]])"
      ]
     },
     "execution_count": 12,
     "metadata": {},
     "output_type": "execute_result"
    }
   ],
   "source": [
    "# Importing the necessary library\n",
    "from sklearn.preprocessing import StandardScaler\n",
    "# Creating a StandardScaler object\n",
    "scaler = StandardScaler()\n",
    "# Applying the scaler to the data\n",
    "customers_std = scaler.fit_transform(X)\n",
    "customers_std"
   ]
  },
  {
   "cell_type": "markdown",
   "id": "e8f81345",
   "metadata": {},
   "source": [
    "The below code segment performs K-means clustering on the standardized data (customers_std) to find the optimal number of clusters using the elbow method. The elbow method helps determine the optimal number of clusters by plotting the within-cluster sum of squares (WCSS) against the number of clusters and identifying the \"elbow\" point where the rate of decrease in WCSS slows down."
   ]
  },
  {
   "cell_type": "code",
   "execution_count": 13,
   "id": "7b23104c",
   "metadata": {},
   "outputs": [
    {
     "data": {
      "text/plain": [
       "[4000.0000000000005,\n",
       " 2260.2034732423217,\n",
       " 1647.6746772975118,\n",
       " 1281.1554961393947,\n",
       " 1024.2292641315025,\n",
       " 866.2937848659518,\n",
       " 751.3667418949315,\n",
       " 666.9895182519203,\n",
       " 583.0465676392924,\n",
       " 511.26978037264627,\n",
       " 460.05877422702247,\n",
       " 420.214216766434,\n",
       " 389.7754859270794,\n",
       " 361.3446184674199]"
      ]
     },
     "execution_count": 13,
     "metadata": {},
     "output_type": "execute_result"
    }
   ],
   "source": [
    "# Importing the necessary library\n",
    "from sklearn.cluster import KMeans\n",
    "import warnings\n",
    "# using elbow method to find the optimal k\n",
    "# Initializing a list to store the within-cluster sum of squares (WCSS) values\n",
    "wcss=[]\n",
    "# Looping through a range of clusters from 1 to 14\n",
    "for i in range(1, 15):\n",
    "    with warnings.catch_warnings(): #Supressing Warnings\n",
    "        warnings.simplefilter(\"ignore\")\n",
    "         # Creating a KMeans object with the current number of clusters (i)\n",
    "        kmeans = KMeans(n_clusters=i, init='k-means++', n_init=10,max_iter=300, random_state=0)\n",
    "        # Fitting KMeans to the standardized data and calculating WCSS\n",
    "        kmeans.fit(customers_std)\n",
    "        # Appending the WCSS to the list\n",
    "        wcss.append(kmeans.inertia_)\n",
    "# Displaying the list of WCSS values\n",
    "wcss"
   ]
  },
  {
   "cell_type": "markdown",
   "id": "99e8d193",
   "metadata": {},
   "source": [
    "The below code segment visualizes the elbow method graph using Matplotlib. The graph helps in identifying the optimal number of clusters by plotting the within-cluster sum of squares (WCSS) against the number of clusters and looking for the \"elbow\" point where the rate of decrease in WCSS slows down."
   ]
  },
  {
   "cell_type": "code",
   "execution_count": 14,
   "id": "d34e79aa",
   "metadata": {},
   "outputs": [
    {
     "data": {
      "image/png": "[encoded data removed]",
      "text/plain": [
       "<Figure size 640x480 with 1 Axes>"
      ]
     },
     "metadata": {},
     "output_type": "display_data"
    }
   ],
   "source": [
    "# visualize the elbow visualization\n",
    "# Importing the necessary library\n",
    "import matplotlib.pyplot as plt\n",
    "\n",
    "\n",
    "# Plotting the elbow method graph\n",
    "plt.plot(range(1,15),wcss, marker = \"o\")\n",
    "plt.title('The Elbow Method Graph')\n",
    "plt.xlabel('Number of clusters')\n",
    "plt.ylabel('WCSS')\n",
    "plt.show()"
   ]
  },
  {
   "cell_type": "code",
   "execution_count": 15,
   "id": "7097b363",
   "metadata": {},
   "outputs": [
    {
     "name": "stdout",
     "output_type": "stream",
     "text": [
      "Silhouette Score for 2 Clusters: 0.4427\n",
      "Silhouette Score for 3 Clusters: 0.4386\n",
      "Silhouette Score for 4 Clusters: 0.3502\n",
      "Silhouette Score for 5 Clusters: 0.3647\n",
      "Silhouette Score for 6 Clusters: 0.3516\n",
      "Silhouette Score for 7 Clusters: 0.3576\n",
      "Silhouette Score for 8 Clusters: 0.3524\n",
      "Silhouette Score for 9 Clusters: 0.3589\n",
      "Silhouette Score for 10 Clusters: 0.3674\n",
      "Silhouette Score for 11 Clusters: 0.3726\n",
      "Silhouette Score for 12 Clusters: 0.3670\n"
     ]
    }
   ],
   "source": [
    "# This is another way to find the optimal k using silhouette score\n",
    "# Importing the necessary library\n",
    "import warnings\n",
    "from sklearn.metrics import silhouette_score\n",
    "# Looping through a range of clusters\n",
    "for n_cluster in [2, 3, 4, 5, 6, 7, 8, 9, 10, 11, 12]:\n",
    "     # Suppressing warnings during KMeans fitting\n",
    "    with warnings.catch_warnings():\n",
    "        warnings.simplefilter(\"ignore\")\n",
    "         # Creating a KMeans object with the current number of clusters (n_cluster)\n",
    "        kmeans = KMeans(n_clusters=n_cluster,random_state=0).fit(customers_std)\n",
    "         # Calculating silhouette score\n",
    "        silhouette_avg = silhouette_score(\n",
    "            customers_std,\n",
    "            kmeans.labels_\n",
    "        )\n",
    " # Printing silhouette score for each number of clusters\n",
    "    print('Silhouette Score for %i Clusters: %0.4f' % (n_cluster,silhouette_avg))"
   ]
  },
  {
   "cell_type": "code",
   "execution_count": 16,
   "id": "92b22d84",
   "metadata": {},
   "outputs": [],
   "source": [
    " #perform k means cluster analysis using 3 clusters\n",
    "import warnings\n",
    "# Suppress warnings\n",
    "with warnings.catch_warnings():\n",
    "    warnings.simplefilter(\"ignore\")\n",
    "     # Creating a KMeans object with 3 clusters and Fitting KMeans to the standardized data\n",
    "    km = KMeans(n_clusters=3, init='k-means++', n_init=10, max_iter=300,random_state=0).fit(customers_std)"
   ]
  },
  {
   "cell_type": "markdown",
   "id": "6a709670",
   "metadata": {},
   "source": [
    "The fit_predict() method is used to both fit the model to the data and predict the cluster labels for each data point in a single step."
   ]
  },
  {
   "cell_type": "code",
   "execution_count": 17,
   "id": "0b326b30",
   "metadata": {},
   "outputs": [
    {
     "data": {
      "text/plain": [
       "array([2, 1, 2, ..., 0, 0, 0])"
      ]
     },
     "execution_count": 17,
     "metadata": {},
     "output_type": "execute_result"
    }
   ],
   "source": [
    " #assign data points to clusters\n",
    "# Suppress warnings\n",
    "with warnings.catch_warnings():\n",
    "    warnings.simplefilter(\"ignore\")\n",
    "    \n",
    "    # Assigning data points to clusters\n",
    "    clusters = km.fit_predict(customers_std)\n",
    "clusters"
   ]
  },
  {
   "cell_type": "code",
   "execution_count": 18,
   "id": "6e31ad8a",
   "metadata": {},
   "outputs": [
    {
     "data": {
      "text/html": [
       "<div>\n",
       "<style scoped>\n",
       "    .dataframe tbody tr th:only-of-type {\n",
       "        vertical-align: middle;\n",
       "    }\n",
       "\n",
       "    .dataframe tbody tr th {\n",
       "        vertical-align: top;\n",
       "    }\n",
       "\n",
       "    .dataframe thead th {\n",
       "        text-align: right;\n",
       "    }\n",
       "</style>\n",
       "<table border=\"1\" class=\"dataframe\">\n",
       "  <thead>\n",
       "    <tr style=\"text-align: right;\">\n",
       "      <th></th>\n",
       "      <th>ID</th>\n",
       "      <th>Sex</th>\n",
       "      <th>Marital status</th>\n",
       "      <th>Age</th>\n",
       "      <th>Education</th>\n",
       "      <th>Income</th>\n",
       "      <th>Occupation</th>\n",
       "      <th>Settlement size</th>\n",
       "      <th>label</th>\n",
       "    </tr>\n",
       "  </thead>\n",
       "  <tbody>\n",
       "    <tr>\n",
       "      <th>0</th>\n",
       "      <td>100000001</td>\n",
       "      <td>0</td>\n",
       "      <td>0</td>\n",
       "      <td>67</td>\n",
       "      <td>2</td>\n",
       "      <td>124670</td>\n",
       "      <td>1</td>\n",
       "      <td>2</td>\n",
       "      <td>2</td>\n",
       "    </tr>\n",
       "    <tr>\n",
       "      <th>1</th>\n",
       "      <td>100000002</td>\n",
       "      <td>1</td>\n",
       "      <td>1</td>\n",
       "      <td>22</td>\n",
       "      <td>1</td>\n",
       "      <td>150773</td>\n",
       "      <td>1</td>\n",
       "      <td>2</td>\n",
       "      <td>1</td>\n",
       "    </tr>\n",
       "    <tr>\n",
       "      <th>2</th>\n",
       "      <td>100000003</td>\n",
       "      <td>0</td>\n",
       "      <td>0</td>\n",
       "      <td>49</td>\n",
       "      <td>1</td>\n",
       "      <td>89210</td>\n",
       "      <td>0</td>\n",
       "      <td>0</td>\n",
       "      <td>2</td>\n",
       "    </tr>\n",
       "    <tr>\n",
       "      <th>3</th>\n",
       "      <td>100000004</td>\n",
       "      <td>0</td>\n",
       "      <td>0</td>\n",
       "      <td>45</td>\n",
       "      <td>1</td>\n",
       "      <td>171565</td>\n",
       "      <td>1</td>\n",
       "      <td>1</td>\n",
       "      <td>1</td>\n",
       "    </tr>\n",
       "    <tr>\n",
       "      <th>4</th>\n",
       "      <td>100000005</td>\n",
       "      <td>0</td>\n",
       "      <td>0</td>\n",
       "      <td>53</td>\n",
       "      <td>1</td>\n",
       "      <td>149031</td>\n",
       "      <td>1</td>\n",
       "      <td>1</td>\n",
       "      <td>2</td>\n",
       "    </tr>\n",
       "    <tr>\n",
       "      <th>...</th>\n",
       "      <td>...</td>\n",
       "      <td>...</td>\n",
       "      <td>...</td>\n",
       "      <td>...</td>\n",
       "      <td>...</td>\n",
       "      <td>...</td>\n",
       "      <td>...</td>\n",
       "      <td>...</td>\n",
       "      <td>...</td>\n",
       "    </tr>\n",
       "    <tr>\n",
       "      <th>1995</th>\n",
       "      <td>100001996</td>\n",
       "      <td>1</td>\n",
       "      <td>0</td>\n",
       "      <td>47</td>\n",
       "      <td>1</td>\n",
       "      <td>123525</td>\n",
       "      <td>0</td>\n",
       "      <td>0</td>\n",
       "      <td>2</td>\n",
       "    </tr>\n",
       "    <tr>\n",
       "      <th>1996</th>\n",
       "      <td>100001997</td>\n",
       "      <td>1</td>\n",
       "      <td>1</td>\n",
       "      <td>27</td>\n",
       "      <td>1</td>\n",
       "      <td>117744</td>\n",
       "      <td>1</td>\n",
       "      <td>0</td>\n",
       "      <td>0</td>\n",
       "    </tr>\n",
       "    <tr>\n",
       "      <th>1997</th>\n",
       "      <td>100001998</td>\n",
       "      <td>0</td>\n",
       "      <td>0</td>\n",
       "      <td>31</td>\n",
       "      <td>0</td>\n",
       "      <td>86400</td>\n",
       "      <td>0</td>\n",
       "      <td>0</td>\n",
       "      <td>0</td>\n",
       "    </tr>\n",
       "    <tr>\n",
       "      <th>1998</th>\n",
       "      <td>100001999</td>\n",
       "      <td>1</td>\n",
       "      <td>1</td>\n",
       "      <td>24</td>\n",
       "      <td>1</td>\n",
       "      <td>97968</td>\n",
       "      <td>0</td>\n",
       "      <td>0</td>\n",
       "      <td>0</td>\n",
       "    </tr>\n",
       "    <tr>\n",
       "      <th>1999</th>\n",
       "      <td>100002000</td>\n",
       "      <td>0</td>\n",
       "      <td>0</td>\n",
       "      <td>25</td>\n",
       "      <td>0</td>\n",
       "      <td>68416</td>\n",
       "      <td>0</td>\n",
       "      <td>0</td>\n",
       "      <td>0</td>\n",
       "    </tr>\n",
       "  </tbody>\n",
       "</table>\n",
       "<p>2000 rows × 9 columns</p>\n",
       "</div>"
      ],
      "text/plain": [
       "             ID  Sex  Marital status  Age  Education  Income  Occupation  \\\n",
       "0     100000001    0               0   67          2  124670           1   \n",
       "1     100000002    1               1   22          1  150773           1   \n",
       "2     100000003    0               0   49          1   89210           0   \n",
       "3     100000004    0               0   45          1  171565           1   \n",
       "4     100000005    0               0   53          1  149031           1   \n",
       "...         ...  ...             ...  ...        ...     ...         ...   \n",
       "1995  100001996    1               0   47          1  123525           0   \n",
       "1996  100001997    1               1   27          1  117744           1   \n",
       "1997  100001998    0               0   31          0   86400           0   \n",
       "1998  100001999    1               1   24          1   97968           0   \n",
       "1999  100002000    0               0   25          0   68416           0   \n",
       "\n",
       "      Settlement size  label  \n",
       "0                   2      2  \n",
       "1                   2      1  \n",
       "2                   0      2  \n",
       "3                   1      1  \n",
       "4                   1      2  \n",
       "...               ...    ...  \n",
       "1995                0      2  \n",
       "1996                0      0  \n",
       "1997                0      0  \n",
       "1998                0      0  \n",
       "1999                0      0  \n",
       "\n",
       "[2000 rows x 9 columns]"
      ]
     },
     "execution_count": 18,
     "metadata": {},
     "output_type": "execute_result"
    }
   ],
   "source": [
    "# Adding a new column 'label' to the customers DataFrame and assigning cluster labels\n",
    "customers['label'] = clusters\n",
    "customers"
   ]
  },
  {
   "cell_type": "code",
   "execution_count": 19,
   "id": "313619e9",
   "metadata": {},
   "outputs": [
    {
     "data": {
      "text/html": [
       "<div>\n",
       "<style scoped>\n",
       "    .dataframe tbody tr th:only-of-type {\n",
       "        vertical-align: middle;\n",
       "    }\n",
       "\n",
       "    .dataframe tbody tr th {\n",
       "        vertical-align: top;\n",
       "    }\n",
       "\n",
       "    .dataframe thead th {\n",
       "        text-align: right;\n",
       "    }\n",
       "</style>\n",
       "<table border=\"1\" class=\"dataframe\">\n",
       "  <thead>\n",
       "    <tr style=\"text-align: right;\">\n",
       "      <th></th>\n",
       "      <th>Age</th>\n",
       "      <th>Income</th>\n",
       "    </tr>\n",
       "  </thead>\n",
       "  <tbody>\n",
       "    <tr>\n",
       "      <th>0</th>\n",
       "      <td>-0.530318</td>\n",
       "      <td>-0.509046</td>\n",
       "    </tr>\n",
       "    <tr>\n",
       "      <th>1</th>\n",
       "      <td>-0.005012</td>\n",
       "      <td>1.415503</td>\n",
       "    </tr>\n",
       "    <tr>\n",
       "      <th>2</th>\n",
       "      <td>1.485068</td>\n",
       "      <td>0.266995</td>\n",
       "    </tr>\n",
       "  </tbody>\n",
       "</table>\n",
       "</div>"
      ],
      "text/plain": [
       "        Age    Income\n",
       "0 -0.530318 -0.509046\n",
       "1 -0.005012  1.415503\n",
       "2  1.485068  0.266995"
      ]
     },
     "execution_count": 19,
     "metadata": {},
     "output_type": "execute_result"
    }
   ],
   "source": [
    "# Creating a DataFrame 'centroids' with cluster centroids coordinates\n",
    "centroids = pd.DataFrame(km.cluster_centers_, columns = ['Age','Income'])\n",
    "centroids"
   ]
  },
  {
   "cell_type": "code",
   "execution_count": 20,
   "id": "1f8d0847",
   "metadata": {},
   "outputs": [
    {
     "data": {
      "text/html": [
       "<div>\n",
       "<style scoped>\n",
       "    .dataframe tbody tr th:only-of-type {\n",
       "        vertical-align: middle;\n",
       "    }\n",
       "\n",
       "    .dataframe tbody tr th {\n",
       "        vertical-align: top;\n",
       "    }\n",
       "\n",
       "    .dataframe thead th {\n",
       "        text-align: right;\n",
       "    }\n",
       "</style>\n",
       "<table border=\"1\" class=\"dataframe\">\n",
       "  <thead>\n",
       "    <tr style=\"text-align: right;\">\n",
       "      <th></th>\n",
       "      <th>Age</th>\n",
       "      <th>Income</th>\n",
       "      <th>cluster</th>\n",
       "    </tr>\n",
       "  </thead>\n",
       "  <tbody>\n",
       "    <tr>\n",
       "      <th>0</th>\n",
       "      <td>-0.530318</td>\n",
       "      <td>-0.509046</td>\n",
       "      <td>Cluster 0</td>\n",
       "    </tr>\n",
       "    <tr>\n",
       "      <th>1</th>\n",
       "      <td>-0.005012</td>\n",
       "      <td>1.415503</td>\n",
       "      <td>Cluster 1</td>\n",
       "    </tr>\n",
       "    <tr>\n",
       "      <th>2</th>\n",
       "      <td>1.485068</td>\n",
       "      <td>0.266995</td>\n",
       "      <td>Cluster 2</td>\n",
       "    </tr>\n",
       "  </tbody>\n",
       "</table>\n",
       "</div>"
      ],
      "text/plain": [
       "        Age    Income    cluster\n",
       "0 -0.530318 -0.509046  Cluster 0\n",
       "1 -0.005012  1.415503  Cluster 1\n",
       "2  1.485068  0.266995  Cluster 2"
      ]
     },
     "execution_count": 20,
     "metadata": {},
     "output_type": "execute_result"
    }
   ],
   "source": [
    "# add a new column called \"cluster\" to indicate the index of the clusters for each set of the centroids\n",
    "centroids['cluster'] = ['Cluster {}'.format(i) for i in centroids.index]\n",
    "centroids"
   ]
  },
  {
   "cell_type": "code",
   "execution_count": 21,
   "id": "0d5f3eb8",
   "metadata": {},
   "outputs": [
    {
     "data": {
      "text/plain": [
       "<matplotlib.legend.Legend at 0x1ea5848ab90>"
      ]
     },
     "execution_count": 21,
     "metadata": {},
     "output_type": "execute_result"
    },
    {
     "data": {
      "image/png": "[encoded data removed]",
      "text/plain": [
       "<Figure size 1000x500 with 1 Axes>"
      ]
     },
     "metadata": {},
     "output_type": "display_data"
    }
   ],
   "source": [
    " import matplotlib.pyplot as plt\n",
    "from pandas.plotting import parallel_coordinates\n",
    "from matplotlib.lines import Line2D\n",
    "#parallel coordinates visualization\n",
    "# Plot parallel coordinates visualization\n",
    "plt.figure(figsize=(10,5))\n",
    "# Add legend with custom cluster colors\n",
    "parallel_coordinates(centroids, class_column='cluster', colormap='Dark2',linewidth=5)\n",
    "plt.legend(loc='center left', bbox_to_anchor=(1, 0.5))"
   ]
  },
  {
   "cell_type": "code",
   "execution_count": 22,
   "id": "dd2477a9",
   "metadata": {},
   "outputs": [
    {
     "name": "stderr",
     "output_type": "stream",
     "text": [
      "C:\\Users\\saisa\\anaconda3\\Lib\\site-packages\\seaborn\\axisgrid.py:118: UserWarning: The figure layout has changed to tight\n",
      "  self._figure.tight_layout(*args, **kwargs)\n"
     ]
    },
    {
     "data": {
      "text/plain": [
       "<seaborn.axisgrid.FacetGrid at 0x1ea5869f0d0>"
      ]
     },
     "execution_count": 22,
     "metadata": {},
     "output_type": "execute_result"
    },
    {
     "data": {
      "image/png": "[encoded data removed]",
      "text/plain": [
       "<Figure size 558.875x500 with 1 Axes>"
      ]
     },
     "metadata": {},
     "output_type": "display_data"
    }
   ],
   "source": [
    " #visualize the clusters using two variables Age and Income\n",
    "import seaborn as sns\n",
    "# Create a scatter plot with Seaborn's lmplot\n",
    "sns.lmplot(data=customers, x='Age', y='Income',hue='label', fit_reg=False,legend=True)"
   ]
  },
  {
   "cell_type": "markdown",
   "id": "1e1bcb4b",
   "metadata": {},
   "source": [
    "**Data Understanding and Preparation:**\n",
    "\n",
    "**What are the key characteristics of the dataset, and how might they influence customer behavior?**\n",
    "\n",
    "The Key characteristics include ID, sex, marital status, age, education, income, occupation, and settlement size. These characteristics can influence purchasing behavior.\n",
    "\n",
    "For example, Income may affect purchasing power, while occupation might influence the types of products purchased. Younger individuals might have different spending patterns compared to older ones. Urban and rural customers might have different preferences and needs.\n",
    "\n",
    "**How can we preprocess the data to ensure it is suitable for clustering analysis?**\n",
    "\n",
    "We can preprocess the data in the following ways,\n",
    "\n",
    "**Handling Missing Values:** Check for missing values and decide whether to remove or impute them.  \n",
    "**Scaling Numerical Variables:** Standardize numerical variables to bring them to a common scale, especially if clustering algorithms rely on distance measures.\n"
   ]
  },
  {
   "cell_type": "markdown",
   "id": "676f6e76",
   "metadata": {},
   "source": [
    "**Algorithm Selection:**\n",
    "\n",
    "**Which clustering algorithms are most suitable for this type of dataset and why?**\n",
    "\n",
    "K-Means algorithm is more suitable for this type of dataset as it efficiently partitions data into 'k' clusters based on similarity. It works well with numerical features and is computationally efficient. Because Hierarchical Clustering is suitable for datasets with a hierarchical structure, it is not suitable for this type of dataset.\n",
    "\n",
    "**What are the pros and cons of using K-Means and Hierarchical Clustering in the context of this dataset?**\n",
    "\n",
    "**K-Means Clustering:**\n",
    "\n",
    "**Pros:**\n",
    "\n",
    " - Works well with numerical features like income and age.\n",
    " - Suitable for finding well-separated clusters.\n",
    "\n",
    "**Cons:**\n",
    "\n",
    " - Requires pre-defining the number of clusters (K), which can be challenging.\n",
    "\n",
    "**Hierarchical Clustering:**\n",
    "\n",
    "**Pros:**\n",
    "\n",
    " - No need to pre-define the number of clusters, discover the natural hierarchy in the data.\n",
    " - Handles mixed data types like categorical and numerical effectively.\n",
    "\n",
    "**Cons:**\n",
    "\n",
    " - It Can be computationally expensive for large datasets and visualizing and interpreting dendrograms can be challenging, especially with many data points.\n",
    " - Difficult to compare and choose the best clustering outcome at different levels.\n",
    " - For example, in this dataset, we have 2000 customer IDs.\n"
   ]
  },
  {
   "cell_type": "markdown",
   "id": "610b89f8",
   "metadata": {},
   "source": [
    "**Determining Cluster Number:**\n",
    "\n",
    "**How can the Elbow Method or other methods be applied to determine the optimal number of clusters for K-Means?**\n",
    "\n",
    "**Applying the Elbow Method for K-Means:**\n",
    "\n",
    " - Run K-Means for different values of k: Use a range of k values and run the K-Means algorithm for each. Calculate the WCSS for each k.\n",
    " - Plot the WCSS against k: Create a line plot where the x-axis represents the number of clusters (k), and the y-axis represents the corresponding WCSS.\n",
    " - Identify the Elbow: Look for the point on the plot where the decrease in WCSS slows down. This point is the \"elbow\" and indicates the optimal number of clusters.\n",
    "\n",
    "**Silhouette Analysis:**\n",
    "\n",
    "Silhouette Analysis is a technique used to evaluate the goodness of a clustering technique. It provides a way to measure how similar an object is to its cluster (cohesion) compared to other clusters (separation). The silhouette score ranges from -1 to 1, where a high value indicates that the object is well-matched to its cluster and poorly matched to neighboring clusters.\n",
    "\n",
    "**What insights can be gained from a dendrogram in Hierarchical Clustering?**\n",
    "\n",
    "A dendrogram is a tree-like diagram that illustrates the arrangement of clusters. In hierarchical clustering, the dendrogram provides insights into the structure of the data:\n",
    "\n",
    "**Cluster Similarity:** Vertical lines in the dendrogram represent clusters, and the height at which two clusters merge indicates their similarity. Closer merging points suggest more similarity.\n",
    "**Observation Similarity:** The closer two leaves (individual data points) are on the dendrogram, the more similar they are in terms of features.\n",
    "**Cutting the Dendrogram:** To determine the number of clusters, you can visually inspect the dendrogram and look for a horizontal line that crosses the fewest vertical lines. Each intersection point represents a potential number of clusters.\n",
    "\n",
    "Both methods help in determining the optimal number of clusters and understanding the underlying patterns in the data."
   ]
  },
  {
   "cell_type": "markdown",
   "id": "33531cc0",
   "metadata": {},
   "source": [
    "**Analysis and Interpretation:**\n",
    "\n",
    "What distinct customer segments emerge from the clustering process?\n",
    "\n",
    "We have found 3 distinct customer segments that emerge from the clustering process\n",
    "\n",
    "How do demographic and socio-economic factors define these customer segments?\n",
    "\n",
    "1) Customers of Low age have low income\n",
    "\n",
    "2) Customers of middle age have a higher income than customers of low and high age\n",
    "\n",
    "Are there any surprising patterns or anomalies in the clustering results?\n",
    "\n",
    "Although old age people may have more experience than the middle age ones but the customers categorized under middle age are earning more at some points than the old age customers"
   ]
  },
  {
   "cell_type": "markdown",
   "id": "af5034a2",
   "metadata": {},
   "source": [
    "**Business Insights and Strategy Development:**\n",
    "\n",
    "**How can the identified customer segments inform targeted marketing strategies?**\n",
    "\n",
    "Identified customer segments serve as the foundation for targeted marketing strategies by providing insights into the specific needs, preferences, and behaviors of different groups of customers.\n",
    "\n",
    "In this dataset, we have found from the cluster analysis that the customers of mid-age earn higher income than customers of old and young age. This indicates that the tendency and probability of mid-age customers to buy higher-end products is higher, so we can target marketing of higher-end products to mid-age customers.\n",
    "\n",
    "**What product development or customization strategies can be derived from understanding these segments?**\n",
    "\n",
    "Depending on the income levels of customer segments, we can develop products or services that suit different affordability ranges. This could involve offering premium versions for higher-income customers and budget-friendly options for those with lower customers.\n",
    "\n",
    "**How can the company use this segmentation to optimize store layouts and pricing strategies?**\n",
    "\n",
    "The store layouts can be optimized in the following ways,\n",
    "-   **Targeted Product Placement**: Arrange products in-store based on the preferences and purchasing behaviors of different segments. For instance, placing high-margin or premium products in areas frequented by higher-income customers can increase their visibility and likelihood of purchase.\n",
    "-   **Age-Appropriate Displays**: Tailor store displays and layouts to appeal to specific age demographics. For example, creating interactive displays or incorporating digital signage might attract younger consumers, while providing clear signage and comfortable seating areas could cater to older demographics.\n",
    "\n",
    "The pricing strategies can be optimized in the following ways,\n",
    "-   **Dynamic Pricing**: Implement dynamic pricing strategies that adjust prices based on demand, customer demographics, and purchasing patterns. For example, offering discounts or promotions during off-peak hours or targeting lower-income segments with more affordable pricing can optimize revenue and maximize sales volume.\n",
    "-   **Segment-Specific Pricing**: Set prices for products or services based on the perceived value to different segments. Higher-income customers may be willing to pay a premium for added convenience or luxury, while price-sensitive segments may respond better to competitive pricing or discounts.\n",
    "-   **Tiered Pricing Models**: Introduce tiered pricing models that offer different levels of service or product features at varying price points. For instance, offering basic, standard, and premium service tiers can cater to customers with different budgets and preferences, maximizing revenue potential.\n",
    "-   **Bundle Pricing**: Bundle complementary products or services together at a discounted price to incentivize larger purchases and increase average transaction value. Tailor bundle offerings to appeal to specific age and income segments, ensuring relevance and value for customers."
   ]
  },
  {
   "cell_type": "markdown",
   "id": "707deecb",
   "metadata": {},
   "source": [
    "**Validation and Future Steps:**\n",
    "\n",
    "**What methods can be used to validate the effectiveness of the clustering model?**\n",
    "\n",
    "To validate the effectiveness of the K-means clustering model, we can use the silhouette score, which measures how well-separated the clusters are. A higher silhouette score indicates better-defined clusters. We can also use visualizations, such as scatter plots or parallel coordinate plots, to visually inspect the separation and compactness of clusters. Matplotlib, Seaborn, or other plotting libraries can be helpful.\n",
    "\n",
    "For hierarchical clustering, we can inspect the dendrogram to understand the hierarchy and structure of clusters.\n",
    "\n",
    "**How should the company approach the dynamic nature of customer preferences in future segmentation models?**\n",
    "\n",
    "To address the dynamic nature of customer preferences in future segmentation models, the company should implement a continuous and adaptive segmentation approach. This involves regularly updating the segmentation model based on the latest customer behavior and preferences. Utilize real-time data, feedback loops, and advanced analytics to capture evolving trends and shifts in customer preferences. Implement machine learning techniques, such as clustering algorithms, that can automatically adapt to changes in customer behavior. Additionally, leverage customer feedback, social media analytics, and other sources to stay attuned to emerging trends. The company should foster a culture of data-driven decision-making and agility to respond swiftly to evolving customer preferences, ensuring that the segmentation model remains relevant and effective in guiding marketing strategies and product offerings. Regularly reassess and refine the segmentation criteria to accommodate shifts in the market landscape and customer expectations."
   ]
  },
  {
   "cell_type": "markdown",
   "id": "1905fd84",
   "metadata": {},
   "source": [
    "**Ethical Considerations:** \n",
    "\n",
    "**What are the ethical considerations in using customer data for segmentation?** \n",
    "Ethical considerations in the use of customer data for segmentation encompass a commitment to fairness, transparency, and the avoidance of discriminatory practices. Businesses should embrace transparency, clearly communicating to customers not only the purpose of data usage but also how their data contributes to segmentation models. Ensure compliance with data protection regulations. Providing customers with control over their data and allowing them to access and manage their information fosters a sense of empowerment and demonstrates respect for individual autonomy. Education initiatives play a pivotal role, in informing customers about data practices, their rights, and the benefits of data-driven services, creating a foundation for ethical engagement and the responsible use of customer data.\n",
    "\n",
    "**How can the company ensure the privacy and ethical use of this data?** \n",
    "Ensuring privacy in customer segmentation involves rigorous measures to protect individuals' personal information. Anonymization of data is paramount, stripping away identifiable details to shield customers from direct identification. Obtaining explicit consent becomes a foundational ethical principle, where customers are fully informed about the purpose of data collection and willingly provide permission. Robust security protocols, such as encryption and access controls, should be implemented to safeguard against unauthorized access or potential breaches. Transparent communication regarding data storage practices and the limited retention of information helps build trust. Privacy considerations extend to third-party sharing, necessitating clear communication and consent mechanisms when data is shared externally. Periodic audits and compliance checks ensure ongoing adherence to privacy regulations, fostering a climate of data responsibility and respect for individual privacy rights."
   ]
  },
  {
   "cell_type": "code",
   "execution_count": null,
   "id": "0a31d04d",
   "metadata": {},
   "outputs": [],
   "source": []
  }
 ],
 "metadata": {
  "kernelspec": {
   "display_name": "Python 3 (ipykernel)",
   "language": "python",
   "name": "python3"
  },
  "language_info": {
   "codemirror_mode": {
    "name": "ipython",
    "version": 3
   },
   "file_extension": ".py",
   "mimetype": "text/x-python",
   "name": "python",
   "nbconvert_exporter": "python",
   "pygments_lexer": "ipython3",
   "version": "3.11.5"
  }
 },
 "nbformat": 4,
 "nbformat_minor": 5
}
